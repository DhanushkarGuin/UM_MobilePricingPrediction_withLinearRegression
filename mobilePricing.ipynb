{
 "cells": [
  {
   "cell_type": "markdown",
   "id": "c3fda44c",
   "metadata": {},
   "source": [
    "# Project : Mobile Pricing Prediction\n"
   ]
  },
  {
   "cell_type": "markdown",
   "id": "8726b5ce",
   "metadata": {},
   "source": [
    "Cell 1 - Imports"
   ]
  },
  {
   "cell_type": "code",
   "execution_count": null,
   "id": "f2567b58",
   "metadata": {},
   "outputs": [],
   "source": [
    "import numpy as np\n",
    "import pandas as pd\n",
    "import matplotlib.pyplot as plt\n",
    "from sklearn.model_selection import train_test_split\n",
    "from sklearn.linear_model import LinearRegression\n",
    "from sklearn import metrics"
   ]
  },
  {
   "cell_type": "markdown",
   "id": "3af70df8",
   "metadata": {},
   "source": [
    "Cell 2 - Load and Prepare Data"
   ]
  },
  {
   "cell_type": "code",
   "execution_count": null,
   "id": "7cb5f2e3",
   "metadata": {},
   "outputs": [],
   "source": [
    "dataset = pd.read_csv('dataset.csv')\n",
    "X = dataset.iloc[:, :-1]\n",
    "Y = dataset.iloc[:, -1].values"
   ]
  },
  {
   "cell_type": "markdown",
   "id": "8434f4e4",
   "metadata": {},
   "source": [
    "Cell 3 - Split and Train"
   ]
  },
  {
   "cell_type": "code",
   "execution_count": null,
   "id": "aefb81c8",
   "metadata": {},
   "outputs": [],
   "source": [
    "X_train, X_test, Y_train, Y_test = train_test_split(X, Y, test_size=0.2, random_state=42)\n",
    "\n",
    "reg = LinearRegression()\n",
    "reg.fit(X_train, Y_train)"
   ]
  },
  {
   "cell_type": "markdown",
   "id": "6372345e",
   "metadata": {},
   "source": [
    "Cell 4 – Predict and Evaluate\n",
    "\n"
   ]
  },
  {
   "cell_type": "code",
   "execution_count": null,
   "id": "0c5d10a2",
   "metadata": {},
   "outputs": [],
   "source": [
    "Y_pred = reg.predict(X_test)\n",
    "df = pd.DataFrame({'Real Values': Y_test, 'Predicted Values': Y_pred})\n",
    "print(df)\n",
    "\n",
    "print(\"Root Mean Squared Error:\", np.sqrt(metrics.mean_squared_error(Y_test, Y_pred)))"
   ]
  },
  {
   "cell_type": "markdown",
   "id": "d3b05c28",
   "metadata": {},
   "source": [
    "Cell 5 – Take User Input"
   ]
  },
  {
   "cell_type": "code",
   "execution_count": null,
   "id": "3661274e",
   "metadata": {},
   "outputs": [],
   "source": [
    "battery_power = int(input(\"Enter power of your battery:\"))\n",
    "bluetooth = int(input(\"Does your mobile have bluetooth (Yes=1, No=0):\"))\n",
    "clock_speed = float(input(\"Enter processor speed:\"))\n",
    "dual_sim = int(input(\"Does your mobile have dual sim (Yes=1, No=0):\"))\n",
    "front_camera = int(input(\"Front camera megapixels:\"))\n",
    "fourG = int(input(\"4G support (Yes=1, No=0):\"))\n",
    "internal_memory = int(input(\"Internal memory in GB:\"))\n",
    "mobile_depth = float(input(\"Mobile depth in cm:\"))\n",
    "mobile_weight = int(input(\"Weight in grams:\"))\n",
    "number_of_cores = int(input(\"Number of cores:\"))\n",
    "primary_camera = int(input(\"Primary camera MP:\"))\n",
    "resolution_ht = int(input(\"Resolution height:\"))\n",
    "resolution_wt = int(input(\"Resolution width:\"))\n",
    "ram = int(input(\"RAM in MB:\"))\n",
    "screen_height = int(input(\"Screen height in cm:\"))\n",
    "screen_width = int(input(\"Screen width in cm:\"))\n",
    "screen_time = int(input(\"Screen time (in a charge):\"))\n",
    "threeG = int(input(\"3G support (Yes=1, No=0):\"))\n",
    "touch_screen = int(input(\"Touch screen (Yes=1, No=0):\"))\n",
    "wifi = int(input(\"WiFi support (Yes=1, No=0):\"))"
   ]
  },
  {
   "cell_type": "markdown",
   "id": "08f5a60b",
   "metadata": {},
   "source": [
    "Cell 6 - User Input Prediction"
   ]
  },
  {
   "cell_type": "code",
   "execution_count": null,
   "id": "ba972e5d",
   "metadata": {},
   "outputs": [],
   "source": [
    "print(\"\\nYour mobile's price range will be on a scale of 0-3 where 0 is lowest and 3 is highest!\\n\")\n",
    "\n",
    "custom_input = pd.DataFrame([[battery_power, bluetooth, clock_speed, dual_sim, front_camera, fourG,\n",
    "                            internal_memory, mobile_depth, mobile_weight, number_of_cores,\n",
    "                            primary_camera, resolution_ht, resolution_wt, ram, screen_height,\n",
    "                            screen_width, screen_time, threeG, touch_screen, wifi]],\n",
    "                            columns=X.columns)\n",
    "\n",
    "predicted_price = reg.predict(custom_input)\n",
    "print(f\"Predicted mobile phone price: {predicted_price[0]:.2f}\")"
   ]
  }
 ],
 "metadata": {
  "language_info": {
   "name": "python"
  }
 },
 "nbformat": 4,
 "nbformat_minor": 5
}
